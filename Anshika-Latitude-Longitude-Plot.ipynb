{
 "cells": [
  {
   "cell_type": "code",
   "execution_count": 18,
   "metadata": {},
   "outputs": [],
   "source": [
    "# library imports\n",
    "\n",
    "import pandas as pd\n",
    "\n"
   ]
  },
  {
   "cell_type": "code",
   "execution_count": 24,
   "metadata": {},
   "outputs": [
    {
     "name": "stdout",
     "output_type": "stream",
     "text": [
      "0                                             Kodihalli\n",
      "1                                     Vijayanagara TTMC\n",
      "2                                             MC Layout\n",
      "3                                 MG Road Metro Station\n",
      "4                 Central Silk Board (Towards Madivala)\n",
      "5     Banashankari Bus Station (Towards Konanakunte ...\n",
      "6                                     Banashankari TTMC\n",
      "7                                         Sangam Circle\n",
      "8             5th Block Jayanagara (Towards Jayanagara)\n",
      "9                                    Krishna Sevashrama\n",
      "10                                            Ragigudda\n",
      "11                                            Ragigudda\n",
      "12                                     Ragigudda Temple\n",
      "13             East End Jayanagara (Towards BTM Layout)\n",
      "14                             Jayadeva Hospital Signal\n",
      "15                                          MICO Layout\n",
      "16                                BTM Layout Water Tank\n",
      "17                                BTM Layout Water Tank\n",
      "18                             Udupi Garden Petrol Bunk\n",
      "Name: bus_stop_name, dtype: object\n"
     ]
    }
   ],
   "source": [
    "# reading the excel file for location names and coordinates\n",
    "\n",
    "data = pd.read_excel(\"plotting lat long data.xlsx\")\n",
    "\n",
    "data_size = len(data)\n",
    "\n",
    "print(data[\"bus_stop_name\"])\n",
    "    "
   ]
  },
  {
   "cell_type": "code",
   "execution_count": null,
   "metadata": {},
   "outputs": [],
   "source": []
  },
  {
   "cell_type": "code",
   "execution_count": null,
   "metadata": {},
   "outputs": [],
   "source": []
  }
 ],
 "metadata": {
  "kernelspec": {
   "display_name": "Python 3",
   "language": "python",
   "name": "python3"
  },
  "language_info": {
   "codemirror_mode": {
    "name": "ipython",
    "version": 3
   },
   "file_extension": ".py",
   "mimetype": "text/x-python",
   "name": "python",
   "nbconvert_exporter": "python",
   "pygments_lexer": "ipython3",
   "version": "3.8.5"
  }
 },
 "nbformat": 4,
 "nbformat_minor": 4
}
